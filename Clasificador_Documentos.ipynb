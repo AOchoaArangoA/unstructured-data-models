{
 "cells": [
  {
   "cell_type": "markdown",
   "id": "nRAe41rkGhGc",
   "metadata": {
    "id": "nRAe41rkGhGc"
   },
   "source": [
    "<p><img alt=\"Colaboratory logo\" height=\"65px\" src=\"https://upload.wikimedia.org/wikipedia/en/thumb/b/b1/Davivienda_logo.svg/1200px-Davivienda_logo.svg.png\" align=\"left\" hspace=\"10px\" width=\"20%\" vspace=\"15px\"></p>\n",
    "\n",
    "<h1 align=\"center\"> Prueba Técnica Profesional III Departamento de Datos no Estructurados  </h1>\n",
    " <h2 align = \"center\"> Autor: Andres Ochoa Arango </h2> \n"
   ]
  },
  {
   "cell_type": "markdown",
   "id": "MRRXB1kbbvOz",
   "metadata": {
    "id": "MRRXB1kbbvOz"
   },
   "source": [
    "#### **Objetivo**\n",
    "El objetivo de este reto es lograr un filtro que discrimine automáticamente un tipo de documento sin información relevante: páginas en blanco. Se busca que este filtro reciba como entrada una carpeta con imágenes de documentos diversos y produzca como salida dos carpetas, una con imágenes de páginas sin contenido y otra con imágenes de páginas con contenido.\n"
   ]
  },
  {
   "cell_type": "code",
   "execution_count": 3,
   "id": "5ef55e2c",
   "metadata": {},
   "outputs": [],
   "source": [
    "#Librerias implementadas\n",
    "import os\n",
    "import re\n",
    "import pandas as pd \n",
    "import numpy as np \n",
    "import matplotlib.pyplot as plt\n",
    "try:\n",
    "    import cv2\n",
    "except:\n",
    "    !pip install cv2\n",
    "try:\n",
    "    import seaborn as sns\n",
    "except:\n",
    "    !pip install seaborn\n",
    "try:\n",
    "    import tensorflow as tf\n",
    "except:\n",
    "    !pip install tensorflow\n",
    "\n",
    "try: \n",
    "    from sklearn.model_selection import train_test_split\n",
    "    from sklearn.metrics import confusion_matrix\n",
    "    from sklearn.metrics import classification_report\n",
    "    from sklearn.metrics import accuracy_score\n",
    "    from sklearn.metrics import precision_score, recall_score, f1_score\n",
    "except: \n",
    "    !pip install sklearn\n",
    "\n",
    "try: \n",
    "    import warnings\n",
    "    warnings.filterwarnings(\"ignore\")\n",
    "except: \n",
    "    !pip install warnings"
   ]
  },
  {
   "cell_type": "markdown",
   "id": "QXEgCPkGbYIG",
   "metadata": {
    "id": "QXEgCPkGbYIG"
   },
   "source": [
    "## Clasificación de Imágenes"
   ]
  },
  {
   "cell_type": "markdown",
   "id": "Cs3WaXmZG0uj",
   "metadata": {
    "id": "Cs3WaXmZG0uj"
   },
   "source": [
    "### 1.Importe las imágenes"
   ]
  },
  {
   "cell_type": "code",
   "execution_count": 4,
   "id": "DtNZ9d40gPb4",
   "metadata": {
    "id": "DtNZ9d40gPb4"
   },
   "outputs": [
    {
     "name": "stdout",
     "output_type": "stream",
     "text": [
      "leyendo imagenes de  C:\\Users\\Administrador\\./Datasets\\\n",
      "C:\\Users\\Administrador\\./Datasets\\Blanco 1\n",
      "C:\\Users\\Administrador\\./Datasets\\Documentos 147\n",
      "Directorios leidos: 2\n",
      "Imagenes en cada directorio [148, 99]\n",
      "suma Total de imagenes en subdirs: 247\n"
     ]
    }
   ],
   "source": [
    "#Lector de la informacion en formato .png\n",
    "DIR = './Datasets' \n",
    "dirname = os.path.join(os.getcwd(), DIR)\n",
    "imgpath = dirname + os.sep \n",
    "\n",
    "\n",
    "images = []\n",
    "directories = []\n",
    "dircount = []\n",
    "prevRoot=''\n",
    "cant=0\n",
    "img_size = 600 #Cantidad de pixeles utilizados el resize de los datos \n",
    "#Realizar una trasformación de las imagenes para normalizar la información.\n",
    "#Para normalizar, le cambiamos el tamaño a la hora de importar la información \n",
    "print(\"leyendo imagenes de \",imgpath)\n",
    "for root, dirnames, filenames in os.walk(imgpath):\n",
    "    for filename in filenames:\n",
    "        if re.search(\"\\.(jpg|jpeg|png|bmp|tiff)$\", filename):\n",
    "            cant=cant+1\n",
    "            filepath = os.path.join(root, filename)\n",
    "            #Se utiliza la libereia cv2 para realizar la lectura de la información\n",
    "            image = cv2.imread(filepath , cv2.IMREAD_GRAYSCALE) \n",
    "            image_re = cv2.resize(image, (img_size, img_size)) #Cambiando el tamaño de las imaganes\n",
    "            images.append(image_re)\n",
    "            b = \"\\t\\tImagen...\\t\\t\" + str(cant)\n",
    "            \n",
    "            print (b, end=\"\\r\")\n",
    "            #En esta parte se realiza un condicional para pasar por todas las carpertas\n",
    "            #que puedan tener informacion dentro de './Datasets'\n",
    "            if prevRoot !=root:\n",
    "                print(root, cant)\n",
    "                prevRoot=root\n",
    "                directories.append(root)\n",
    "                dircount.append(cant)\n",
    "                cant=0\n",
    "dircount.append(cant)\n",
    "dircount = dircount[1:]\n",
    "dircount[0]=dircount[0]+1\n",
    "print('Directorios leidos:',len(directories))\n",
    "print(\"Imagenes en cada directorio\", dircount)\n",
    "print('suma Total de imagenes en subdirs:',sum(dircount))"
   ]
  },
  {
   "cell_type": "code",
   "execution_count": 5,
   "id": "0f3c0557",
   "metadata": {},
   "outputs": [
    {
     "name": "stdout",
     "output_type": "stream",
     "text": [
      "Cantidad etiquetas creadas:  247\n",
      "0 Blanco\n",
      "1 Documentos\n",
      "Total number of outputs :  2\n",
      "Output classes :  [0 1]\n"
     ]
    }
   ],
   "source": [
    "#Ahora de manera adicional, se obtiene el nombre de las carpetas\n",
    "labels=[]\n",
    "indice=0\n",
    "for cantidad in dircount:\n",
    "    for i in range(cantidad):\n",
    "        labels.append(indice)\n",
    "    indice=indice+1\n",
    "print(\"Cantidad etiquetas creadas: \",len(labels))\n",
    " \n",
    "docs =[]\n",
    "indice=0\n",
    "for directorio in directories:\n",
    "    name = directorio.split(os.sep)\n",
    "    print(indice , name[len(name)-1])\n",
    "    docs.append(name[len(name)-1])\n",
    "    indice=indice+1\n",
    " \n",
    "y = np.array(labels)\n",
    "X = np.array(images, dtype=np.uint8) #convierto de lista a numpy\n",
    " \n",
    "\n",
    "classes = np.unique(y)\n",
    "nClasses = len(classes)\n",
    "print('Total number of outputs : ', nClasses)\n",
    "print('Output classes : ', classes)"
   ]
  },
  {
   "cell_type": "markdown",
   "id": "ut1ODmgseSFj",
   "metadata": {
    "id": "ut1ODmgseSFj"
   },
   "source": [
    "### 2. Estructure la información\n",
    "Para realizar la estructura de la información a utilizar, se va a proceder a separar los datos en entrenamiento y control. La cantidad de datos que se usaran para el control seran del 66\\% de la muestra y lo de testeo son el 33\\% de la misma. Para normalizar datos y poder obtener mejor resultados a la hora del entrenamiento, se dividen los datos por 255. Con la finalidad, de tener valores entre 1-0. \n",
    "\n",
    "Adicionalmente, se debe realizar una trasformacion para los targets o las ys. En este caso, se realiza un one-hot-encoding. Este paso se justifica, bajo los requerimientos solicitados por el algoritmo."
   ]
  },
  {
   "cell_type": "code",
   "execution_count": 8,
   "id": "wuuqBCTKGtKU",
   "metadata": {
    "id": "wuuqBCTKGtKU"
   },
   "outputs": [
    {
     "name": "stdout",
     "output_type": "stream",
     "text": [
      "Training data shape :  (165, 600, 600) (165,)\n",
      "Testing data shape :  (82, 600, 600) (82,)\n",
      "Label original: 0\n",
      "Luego de la conversion del one-hot-encoding: [1. 0.]\n",
      "(165, 600, 600, 1)\n"
     ]
    }
   ],
   "source": [
    "#Mezclar todo y crear los grupos de entrenamiento y testing\n",
    "train_X,test_X,train_Y,test_Y = train_test_split(X,y,test_size=0.33)\n",
    "print('Training data shape : ', train_X.shape, train_Y.shape)\n",
    "print('Testing data shape : ', test_X.shape, test_Y.shape)\n",
    "\n",
    "train_X = train_X.astype('float32')\n",
    "test_X = test_X.astype('float32')\n",
    "# Proceso de normalización\n",
    "train_X = train_X / 255.\n",
    "test_X = test_X / 255.\n",
    "\n",
    "# En estos codigos se realiza la transformación por one-hot-encoding\n",
    "# Se utiliza el algoritmo de la libreria tensorflow para buscar mayor compatibilidad\n",
    "train_Y_one_hot = tf.keras.utils.to_categorical(train_Y)\n",
    "test_Y_one_hot = tf.keras.utils.to_categorical(test_Y)\n",
    "\n",
    "print('Label original:', train_Y[0])\n",
    "print('Luego de la conversion del one-hot-encoding:', train_Y_one_hot[0])\n",
    "\n",
    "# Buscando compatibilidad con el modelo, se cambia las dimensiones de las Xs\n",
    "train_X = train_X.reshape(train_X.shape[0], img_size, img_size, 1)\n",
    "\n",
    "print(train_X.shape)"
   ]
  },
  {
   "cell_type": "markdown",
   "id": "SxK-QGJ1KeaY",
   "metadata": {
    "id": "SxK-QGJ1KeaY"
   },
   "source": [
    "### 3. Describa su Estrategia de Análisis\n",
    "\n",
    "Para este caso, se realizó un modelo de Deep Learning. Concretamente, una red neuronal convolucional. La primera capa es de 32 núcleos con una matriz (3,3). Esto con la finalidad de abstraer patrones relvantes de los datos y poder obtener resultados generalizables. Luego, se realizo un proceso de Droupout buscando evitar la inutilización de algunas neuronas. Y para terminar, se agrego una capa densa de 50 neuronas con una funcion de activacion relu. \n",
    "\n",
    "La justificacion de este modelo, es la busqueda de unos resultados que sean eficientes a nivel computacional. Para el caso de las funciones de activación, se presentan en algunos [papers](https://arxiv.org/pdf/1710.05941v2.pdf) como la funcion de activacion mas eficientes.  Por otro lado, por la cantidad limitada de datos me llevó a optar por un modelo sencillo que pueda dar buenos resultados en la etapa de testeo.\n",
    "\n",
    "*Nota:* Si la siguiente celda de ejecuta de nuevo, existe la posibilidad de obtener resultados diferentes a los de la presentación"
   ]
  },
  {
   "cell_type": "code",
   "execution_count": 9,
   "id": "Ja9figXzbTNX",
   "metadata": {
    "id": "Ja9figXzbTNX"
   },
   "outputs": [],
   "source": [
    "\n",
    "epochs = 6\n",
    "batch_size = 5\n",
    "\n",
    "\n",
    "modelo2 =  tf.keras.models.Sequential([\n",
    "    tf.keras.layers.Conv2D(32, (3,3), activation='relu', input_shape=(img_size, img_size, 1)),\n",
    "    tf.keras.layers.MaxPooling2D(2, 2),\n",
    "\n",
    "    # tf.keras.layers.Conv2D(64, (3,3), activation='relu'),\n",
    "    # tf.keras.layers.MaxPooling2D(2,2),\n",
    "\n",
    "    tf.keras.layers.Dropout(0.5),\n",
    "    tf.keras.layers.Flatten(),\n",
    "    tf.keras.layers.Dense(50, activation='relu'),\n",
    "    tf.keras.layers.Dense(2, activation=\"softmax\")\n",
    "])\n",
    "\n",
    "\n",
    "#Compilación\n",
    "optimizer = tf.keras.optimizers.Adam(lr=0.01)\n",
    "modelo2.compile(optimizer=optimizer,\n",
    "              loss='categorical_crossentropy',\n",
    "              metrics=['accuracy'])"
   ]
  },
  {
   "cell_type": "code",
   "execution_count": 10,
   "id": "7df1ce8f",
   "metadata": {},
   "outputs": [
    {
     "name": "stdout",
     "output_type": "stream",
     "text": [
      "Epoch 1/6\n",
      "22/22 [==============================] - 37s 2s/step - loss: 142.3972 - accuracy: 0.5909 - val_loss: 0.8705 - val_accuracy: 0.5091\n",
      "Epoch 2/6\n",
      "22/22 [==============================] - 33s 1s/step - loss: 1.4030 - accuracy: 0.7545 - val_loss: 0.7123 - val_accuracy: 0.6727\n",
      "Epoch 3/6\n",
      "22/22 [==============================] - 31s 1s/step - loss: 0.3725 - accuracy: 0.9364 - val_loss: 0.3214 - val_accuracy: 0.9455\n",
      "Epoch 4/6\n",
      "22/22 [==============================] - 32s 1s/step - loss: 0.2491 - accuracy: 0.9636 - val_loss: 0.2226 - val_accuracy: 0.9455\n",
      "Epoch 5/6\n",
      "22/22 [==============================] - 32s 1s/step - loss: 0.1817 - accuracy: 0.9636 - val_loss: 0.1635 - val_accuracy: 0.9636\n",
      "Epoch 6/6\n",
      "22/22 [==============================] - 33s 1s/step - loss: 0.1286 - accuracy: 0.9818 - val_loss: 0.1302 - val_accuracy: 0.9636\n"
     ]
    }
   ],
   "source": [
    "# Fase de entrenamiento del modelo\n",
    "historia_modelo = modelo2.fit(train_X, train_Y_one_hot, batch_size=batch_size,epochs=epochs,verbose=1, validation_split=0.33)"
   ]
  },
  {
   "cell_type": "code",
   "execution_count": 11,
   "id": "2412d332",
   "metadata": {},
   "outputs": [
    {
     "name": "stdout",
     "output_type": "stream",
     "text": [
      "Model: \"sequential\"\n",
      "_________________________________________________________________\n",
      "Layer (type)                 Output Shape              Param #   \n",
      "=================================================================\n",
      "conv2d (Conv2D)              (None, 598, 598, 32)      320       \n",
      "_________________________________________________________________\n",
      "max_pooling2d (MaxPooling2D) (None, 299, 299, 32)      0         \n",
      "_________________________________________________________________\n",
      "dropout (Dropout)            (None, 299, 299, 32)      0         \n",
      "_________________________________________________________________\n",
      "flatten (Flatten)            (None, 2860832)           0         \n",
      "_________________________________________________________________\n",
      "dense (Dense)                (None, 50)                143041650 \n",
      "_________________________________________________________________\n",
      "dense_1 (Dense)              (None, 2)                 102       \n",
      "=================================================================\n",
      "Total params: 143,042,072\n",
      "Trainable params: 143,042,072\n",
      "Non-trainable params: 0\n",
      "_________________________________________________________________\n"
     ]
    }
   ],
   "source": [
    "#En esta parte se muestra el detalle del modelo\n",
    "modelo2.summary()"
   ]
  },
  {
   "cell_type": "code",
   "execution_count": 12,
   "id": "a4e11092",
   "metadata": {},
   "outputs": [
    {
     "data": {
      "image/png": "[encoded data removed]",
      "text/plain": [
       "<Figure size 432x288 with 1 Axes>"
      ]
     },
     "metadata": {
      "needs_background": "light"
     },
     "output_type": "display_data"
    },
    {
     "data": {
      "image/png": "[encoded data removed]",
      "text/plain": [
       "<Figure size 432x288 with 1 Axes>"
      ]
     },
     "metadata": {
      "needs_background": "light"
     },
     "output_type": "display_data"
    }
   ],
   "source": [
    "# Graficacion de la linea de aprendizaje del modelo\n",
    "accuracy = historia_modelo.history['accuracy']\n",
    "val_accuracy = historia_modelo.history['val_accuracy']\n",
    "loss = historia_modelo.history['loss']\n",
    "val_loss = historia_modelo.history['val_loss']\n",
    "epochs = range(len(accuracy))\n",
    "plt.plot(epochs, accuracy, 'bo', label='Training accuracy')\n",
    "plt.plot(epochs, val_accuracy, 'b', label='Validation accuracy')\n",
    "plt.title('Training and validation accuracy')\n",
    "plt.legend()\n",
    "plt.figure()\n",
    "plt.plot(epochs, loss, 'bo', label='Training loss')\n",
    "plt.plot(epochs, val_loss, 'b', label='Validation loss')\n",
    "plt.title('Training and validation loss')\n",
    "plt.legend()\n",
    "plt.show()"
   ]
  },
  {
   "cell_type": "code",
   "execution_count": 13,
   "id": "6dd12a30",
   "metadata": {},
   "outputs": [
    {
     "name": "stdout",
     "output_type": "stream",
     "text": [
      "Test loss: 0.21090064942836761\n",
      "Test accuracy: 0.9268292784690857\n"
     ]
    }
   ],
   "source": [
    "# Predicción de los resultados de testo. \n",
    "# Se realizan diferentes trasnformaciónes\n",
    "test_X = test_X.reshape(test_X.shape[0], img_size, img_size, 1)\n",
    "\n",
    "test_eval = modelo2.evaluate(test_X, test_Y_one_hot, verbose=0)\n",
    " \n",
    "print('Test loss:', test_eval[0])\n",
    "print('Test accuracy:', test_eval[1])\n",
    "\n",
    "y_predict = modelo2.predict(test_X)\n",
    "y_predict_2 = pd.get_dummies(pd.DataFrame(np.round(y_predict))).idxmax(1)"
   ]
  },
  {
   "cell_type": "markdown",
   "id": "8Dp_gy0lEfDZ",
   "metadata": {
    "id": "8Dp_gy0lEfDZ"
   },
   "source": [
    "### 4. Interpretación de Reusultados\n",
    "En esta celda se encuentras las diferentes metricas de evaluación para un modelo de clasificación. Según los labels, (0 Sin contenido y 1 con contendio) se obtuvo un resultado en el ejercicio que se puede mejorar con la implementación de metodos para aumentar la muestra con las datos que se tienen.\n",
    "\n",
    "La interpretacion de las metricas dependen de los errores que se deseen minimizar. Para el caso de los docuementos, lo que se desea minimizar es la perdida de informacion por la mala caracterizacion de los docuementos con información. Por ende, la evaluacion *Recall* es la que se desearia minizar. Para este caso presenta una evaluacion del 84\\%, lo cual es una medida que debe ser escogida bajo un justificación pertinente. "
   ]
  },
  {
   "cell_type": "code",
   "execution_count": 14,
   "id": "7dcb349d",
   "metadata": {},
   "outputs": [
    {
     "name": "stdout",
     "output_type": "stream",
     "text": [
      "\n",
      "      Separacion->\n",
      "      Accuracy: 0.926829268292683\n",
      "      Precision: 0.9655172413793104\n",
      "      Recall: 0.8484848484848485\n",
      "      F1: 0.9032258064516129\n",
      "      \n"
     ]
    },
    {
     "data": {
      "image/png": "[encoded data removed]",
      "text/plain": [
       "<Figure size 432x288 with 2 Axes>"
      ]
     },
     "metadata": {
      "needs_background": "light"
     },
     "output_type": "display_data"
    }
   ],
   "source": [
    "confusion = confusion_matrix(test_Y, y_predict_2)\n",
    "acu= accuracy_score(test_Y, y_predict_2)\n",
    "prec = precision_score(test_Y, y_predict_2)\n",
    "re = recall_score(test_Y, y_predict_2)\n",
    "f1 = f1_score(test_Y, y_predict_2)\n",
    "print('''En este caso los valores verdadereos (1) hacen referencia a las documentos con información y \n",
    "los datos falsos (0) hacen refencia a los documentos sin información.''')\n",
    "print('''\n",
    "      Separacion->\n",
    "      Accuracy: {}\n",
    "      Precision: {}\n",
    "      Recall: {}\n",
    "      F1: {}\n",
    "      '''.format(acu,prec,re, f1))\n",
    "      \n",
    "group_names = ['True Neg','False Pos','False Neg','True Pos']\n",
    "\n",
    "group_counts = [\"{0:0.0f}\".format(value) for value in\n",
    "                confusion.flatten()]\n",
    "\n",
    "group_percentages = [\"{0:.2%}\".format(value) for value in\n",
    "                     confusion.flatten()/np.sum(confusion)]\n",
    "\n",
    "labels = [f\"{v1}\\n{v2}\\n{v3}\" for v1, v2, v3 in\n",
    "          zip(group_names,group_counts,group_percentages)]\n",
    "\n",
    "labels = np.asarray(labels).reshape(2,2)\n",
    "\n",
    "ax = sns.heatmap(confusion, annot=labels, fmt='', cmap='Blues')\n",
    "\n",
    "ax.set_title('Matriz de confusión \\n ');\n",
    "ax.set_xlabel('\\nValores predichos')\n",
    "ax.set_ylabel('Valores Reales ');\n",
    "\n",
    "## Ticket labels - List must be in alphabetical order\n",
    "ax.xaxis.set_ticklabels(['False','True'])\n",
    "ax.yaxis.set_ticklabels(['False','True'])\n",
    "\n",
    "## Display the visualization of the Confusion Matrix.\n",
    "plt.show()"
   ]
  },
  {
   "cell_type": "code",
   "execution_count": null,
   "id": "3bbceaed",
   "metadata": {},
   "outputs": [],
   "source": []
  }
 ],
 "metadata": {
  "colab": {
   "name": "Prueba_de_conocimientos_I_DNE_Davivienda.ipynb",
   "provenance": []
  },
  "kernelspec": {
   "display_name": "Python 3 (ipykernel)",
   "language": "python",
   "name": "python3"
  },
  "language_info": {
   "codemirror_mode": {
    "name": "ipython",
    "version": 3
   },
   "file_extension": ".py",
   "mimetype": "text/x-python",
   "name": "python",
   "nbconvert_exporter": "python",
   "pygments_lexer": "ipython3",
   "version": "3.8.8"
  }
 },
 "nbformat": 4,
 "nbformat_minor": 5
}
